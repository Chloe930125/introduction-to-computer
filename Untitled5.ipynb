{
  "nbformat": 4,
  "nbformat_minor": 0,
  "metadata": {
    "colab": {
      "provenance": [],
      "authorship_tag": "ABX9TyMhJjLawKX+bzTIkHm1V3a2",
      "include_colab_link": true
    },
    "kernelspec": {
      "name": "python3",
      "display_name": "Python 3"
    },
    "language_info": {
      "name": "python"
    }
  },
  "cells": [
    {
      "cell_type": "markdown",
      "metadata": {
        "id": "view-in-github",
        "colab_type": "text"
      },
      "source": [
        "<a href=\"https://colab.research.google.com/github/Chloe930125/introduction-to-computer/blob/main/Untitled5.ipynb\" target=\"_parent\"><img src=\"https://colab.research.google.com/assets/colab-badge.svg\" alt=\"Open In Colab\"/></a>"
      ]
    },
    {
      "cell_type": "code",
      "execution_count": null,
      "metadata": {
        "colab": {
          "base_uri": "https://localhost:8080/"
        },
        "id": "13gmfzUGcKu7",
        "outputId": "e4902db1-0fb0-4d5f-db1a-b3242c3b08f1"
      },
      "outputs": [
        {
          "output_type": "stream",
          "name": "stdout",
          "text": [
            "Hello Word\n"
          ]
        }
      ],
      "source": [
        "print(\"Hello Word\")"
      ]
    },
    {
      "cell_type": "code",
      "source": [
        "print(\"hello world\")"
      ],
      "metadata": {
        "id": "F55PIjDnfymo",
        "colab": {
          "base_uri": "https://localhost:8080/"
        },
        "outputId": "c031d68b-1ba5-40e8-cae5-3ca7b63848bc"
      },
      "execution_count": 2,
      "outputs": [
        {
          "output_type": "stream",
          "name": "stdout",
          "text": [
            "hello world\n"
          ]
        }
      ]
    },
    {
      "cell_type": "code",
      "source": [
        "score = int(input(\"分數:\"))"
      ],
      "metadata": {
        "colab": {
          "base_uri": "https://localhost:8080/"
        },
        "id": "oArMLwjegGiN",
        "outputId": "39209ad7-42c2-41d3-99b6-38ef0f61500a"
      },
      "execution_count": 13,
      "outputs": [
        {
          "name": "stdout",
          "output_type": "stream",
          "text": [
            "分數:90\n"
          ]
        }
      ]
    },
    {
      "cell_type": "code",
      "source": [
        "if score >= 90:\n",
        "  print(\"等級A\")\n",
        "elif score >= 80:\n",
        "  print(\"等級B\")\n",
        "else:\n",
        "  print(\"不是80\") "
      ],
      "metadata": {
        "colab": {
          "base_uri": "https://localhost:8080/"
        },
        "id": "gx1pCL3lgt1q",
        "outputId": "e0215fdd-afe9-4489-d0b7-9399bc3ffc72"
      },
      "execution_count": 14,
      "outputs": [
        {
          "output_type": "stream",
          "name": "stdout",
          "text": [
            "等級A\n"
          ]
        }
      ]
    },
    {
      "cell_type": "code",
      "source": [
        "print(type(bmi))"
      ],
      "metadata": {
        "colab": {
          "base_uri": "https://localhost:8080/"
        },
        "id": "RwgxyrOXl5xt",
        "outputId": "fda5bab4-195f-4dfc-9ab9-2e28a101caa9"
      },
      "execution_count": 17,
      "outputs": [
        {
          "output_type": "stream",
          "name": "stdout",
          "text": [
            "<class 'float'>\n"
          ]
        }
      ]
    },
    {
      "cell_type": "code",
      "source": [
        "print(\"__________________\")"
      ],
      "metadata": {
        "colab": {
          "base_uri": "https://localhost:8080/"
        },
        "id": "WljWhclWmI0v",
        "outputId": "68c08760-6cc3-4c2b-b910-d75d70556f43"
      },
      "execution_count": 18,
      "outputs": [
        {
          "output_type": "stream",
          "name": "stdout",
          "text": [
            "__________________\n"
          ]
        }
      ]
    },
    {
      "cell_type": "code",
      "source": [
        "c = \"string\" * 3"
      ],
      "metadata": {
        "id": "NRDCzpfvmbTb"
      },
      "execution_count": 22,
      "outputs": []
    },
    {
      "cell_type": "code",
      "source": [
        "print((1,2,3,)*3)"
      ],
      "metadata": {
        "id": "WzxtSb_GW_di",
        "outputId": "b65c6d4f-142d-4303-da7a-0a9da3b7a6b2",
        "colab": {
          "base_uri": "https://localhost:8080/"
        }
      },
      "execution_count": 67,
      "outputs": [
        {
          "output_type": "stream",
          "name": "stdout",
          "text": [
            "(1, 2, 3, 1, 2, 3, 1, 2, 3)\n"
          ]
        }
      ]
    },
    {
      "cell_type": "code",
      "source": [
        "print(c)"
      ],
      "metadata": {
        "colab": {
          "base_uri": "https://localhost:8080/"
        },
        "id": "5Qzk9IdvsHJF",
        "outputId": "3404e852-733c-4c2d-c4b8-d09f115cfaed"
      },
      "execution_count": 25,
      "outputs": [
        {
          "output_type": "stream",
          "name": "stdout",
          "text": [
            "stringstringstring\n"
          ]
        }
      ]
    },
    {
      "cell_type": "code",
      "source": [
        "print(c[0:7])"
      ],
      "metadata": {
        "colab": {
          "base_uri": "https://localhost:8080/"
        },
        "id": "zjp_lEFtsjQN",
        "outputId": "74959b9c-3c81-4c50-96e6-e4e5c3363761"
      },
      "execution_count": 27,
      "outputs": [
        {
          "output_type": "stream",
          "name": "stdout",
          "text": [
            "strings\n"
          ]
        }
      ]
    },
    {
      "cell_type": "code",
      "source": [
        "print(c[0:7:2])"
      ],
      "metadata": {
        "colab": {
          "base_uri": "https://localhost:8080/"
        },
        "id": "W08bx3e2tIpg",
        "outputId": "6f2e2526-1a86-425d-ec89-01481990cc90"
      },
      "execution_count": 28,
      "outputs": [
        {
          "output_type": "stream",
          "name": "stdout",
          "text": [
            "srns\n"
          ]
        }
      ]
    },
    {
      "cell_type": "code",
      "source": [
        "print(len(c))"
      ],
      "metadata": {
        "colab": {
          "base_uri": "https://localhost:8080/"
        },
        "id": "C_BB78D0tO3J",
        "outputId": "462cff5a-5baf-4a3a-c822-bc9e294c341a"
      },
      "execution_count": 29,
      "outputs": [
        {
          "output_type": "stream",
          "name": "stdout",
          "text": [
            "18\n"
          ]
        }
      ]
    },
    {
      "cell_type": "code",
      "source": [
        "a=1\n",
        "b=2\n",
        "c=3\n",
        "print(a,b,c)"
      ],
      "metadata": {
        "colab": {
          "base_uri": "https://localhost:8080/"
        },
        "id": "K7T9QhhXty0Z",
        "outputId": "18c3b1d1-f461-4ffa-d07f-b4f2d70bba7c"
      },
      "execution_count": 31,
      "outputs": [
        {
          "output_type": "stream",
          "name": "stdout",
          "text": [
            "1 2 3\n"
          ]
        }
      ]
    },
    {
      "cell_type": "code",
      "source": [
        "a=1\n",
        "b=2\n",
        "c=3\n",
        "print([a,b,c])"
      ],
      "metadata": {
        "colab": {
          "base_uri": "https://localhost:8080/"
        },
        "id": "R9bqJ3hRxMDV",
        "outputId": "7cfd7ee2-b27f-4d8c-b0ba-8f07d2f83014"
      },
      "execution_count": 32,
      "outputs": [
        {
          "output_type": "stream",
          "name": "stdout",
          "text": [
            "[1, 2, 3]\n"
          ]
        }
      ]
    },
    {
      "cell_type": "code",
      "source": [
        "a=1\n",
        "b=2\n",
        "c=3\n",
        "print(a,[b,c])"
      ],
      "metadata": {
        "colab": {
          "base_uri": "https://localhost:8080/"
        },
        "id": "9-nAMw1RxWPt",
        "outputId": "71ef40dd-d225-48e7-e1af-d000d3f7c13b"
      },
      "execution_count": 33,
      "outputs": [
        {
          "output_type": "stream",
          "name": "stdout",
          "text": [
            "1 [2, 3]\n"
          ]
        }
      ]
    },
    {
      "cell_type": "code",
      "source": [
        "print(type([123, 456]))"
      ],
      "metadata": {
        "colab": {
          "base_uri": "https://localhost:8080/"
        },
        "id": "rxYmOoG6yH0D",
        "outputId": "f21e1931-5530-4898-ce55-838564c85472"
      },
      "execution_count": 38,
      "outputs": [
        {
          "output_type": "stream",
          "name": "stdout",
          "text": [
            "<class 'list'>\n"
          ]
        }
      ]
    },
    {
      "cell_type": "code",
      "source": [
        "print(type(123))"
      ],
      "metadata": {
        "colab": {
          "base_uri": "https://localhost:8080/"
        },
        "id": "DFHzQLh8ySP6",
        "outputId": "30e01cda-db14-45ee-da5f-7f46880326db"
      },
      "execution_count": 58,
      "outputs": [
        {
          "output_type": "stream",
          "name": "stdout",
          "text": [
            "<class 'int'>\n"
          ]
        }
      ]
    },
    {
      "cell_type": "code",
      "source": [
        "a = \"456\"\n",
        "b = 789\n",
        "c = 4.52\n",
        "str(c)"
      ],
      "metadata": {
        "id": "uss6NpC9VgPh",
        "outputId": "9c547b1b-1a3c-44a7-901b-7fccf3bc9b6d",
        "colab": {
          "base_uri": "https://localhost:8080/",
          "height": 35
        }
      },
      "execution_count": 71,
      "outputs": [
        {
          "output_type": "execute_result",
          "data": {
            "text/plain": [
              "'4.52'"
            ],
            "application/vnd.google.colaboratory.intrinsic+json": {
              "type": "string"
            }
          },
          "metadata": {},
          "execution_count": 71
        }
      ]
    },
    {
      "cell_type": "code",
      "source": [
        "test = (input(\"請輸入數字1:\"))"
      ],
      "metadata": {
        "id": "Iro7YHxDWA5Y",
        "outputId": "804d3e96-a7fa-4c7e-e0f2-cd2e48737cb2",
        "colab": {
          "base_uri": "https://localhost:8080/"
        }
      },
      "execution_count": 76,
      "outputs": [
        {
          "name": "stdout",
          "output_type": "stream",
          "text": [
            "請輸入數字1:1\n"
          ]
        }
      ]
    },
    {
      "cell_type": "code",
      "source": [
        "print(type(test))"
      ],
      "metadata": {
        "id": "khZv6NkRWN0I",
        "outputId": "d770f432-f75f-4979-91ca-d1ac5957f296",
        "colab": {
          "base_uri": "https://localhost:8080/"
        }
      },
      "execution_count": 64,
      "outputs": [
        {
          "output_type": "stream",
          "name": "stdout",
          "text": [
            "<class 'str'>\n"
          ]
        }
      ]
    },
    {
      "cell_type": "code",
      "source": [
        "test=int(input(\"請輸入數字1:\"))"
      ],
      "metadata": {
        "id": "x9-L5ckWWUEE",
        "outputId": "dedee29c-ec4e-4ccd-d487-2bed942b1f49",
        "colab": {
          "base_uri": "https://localhost:8080/"
        }
      },
      "execution_count": 65,
      "outputs": [
        {
          "name": "stdout",
          "output_type": "stream",
          "text": [
            "請輸入數字1:1\n"
          ]
        }
      ]
    },
    {
      "cell_type": "code",
      "source": [
        "test+1"
      ],
      "metadata": {
        "id": "BhSO0Kf7WdkU",
        "outputId": "8cbc7fe3-2680-4ddf-bb67-660d90b29e96",
        "colab": {
          "base_uri": "https://localhost:8080/"
        }
      },
      "execution_count": 66,
      "outputs": [
        {
          "output_type": "execute_result",
          "data": {
            "text/plain": [
              "2"
            ]
          },
          "metadata": {},
          "execution_count": 66
        }
      ]
    },
    {
      "cell_type": "code",
      "source": [
        "上底 = int(input(\"請輸入上底:\"))\n",
        "下底 = int(input(\"請輸入下底:\"))\n",
        "高 = int(input(\"請輸入高:\"))\n",
        "面積 = (上底+下底)*高/2\n",
        "print(\"上底長度為:\", 上底 , \"下底長度為:\" , 下底 , \"高長度為:\" , 高 , \"梯形面積為:\" , 面積)"
      ],
      "metadata": {
        "colab": {
          "base_uri": "https://localhost:8080/"
        },
        "id": "rlCZqN71-qJU",
        "outputId": "90b45def-d7ae-448a-ecd6-bd4f5fd987c4"
      },
      "execution_count": 46,
      "outputs": [
        {
          "output_type": "stream",
          "name": "stdout",
          "text": [
            "請輸入上底:3\n",
            "請輸入下底:4\n",
            "請輸入高:3\n",
            "上底長度為: 3 下底長度為: 4 高長度為: 3 梯形面積為: 10.5\n"
          ]
        }
      ]
    },
    {
      "cell_type": "code",
      "source": [
        "height = 158\n",
        "weight = 42\n",
        "height = height/100\n",
        "bmi = weight/(height*height)"
      ],
      "metadata": {
        "id": "byY0XUjzhpHb"
      },
      "execution_count": 47,
      "outputs": []
    },
    {
      "cell_type": "code",
      "source": [
        "print (\"bmi:\" + str(bmi))"
      ],
      "metadata": {
        "colab": {
          "base_uri": "https://localhost:8080/"
        },
        "id": "0EkgpFQ5ldbE",
        "outputId": "44c4ddf2-14c2-443b-f39f-eb85a017479f"
      },
      "execution_count": 16,
      "outputs": [
        {
          "output_type": "stream",
          "name": "stdout",
          "text": [
            "bmi:16.82422688671687\n"
          ]
        }
      ]
    },
    {
      "cell_type": "code",
      "source": [
        "身高 = int(input(\"請輸入您的身高:\"))\n",
        "體重 = int(input(\"請輸入您的體重:\"))\n",
        "bmi = 體重/(身高*身高)\n",
        "print(\"身高:\" , 身高 , \"公分\" ,\"體重:\" , 體重 , \"公斤\" ,\"bmi:\" , bmi)"
      ],
      "metadata": {
        "id": "sxYqc10lDAMi",
        "outputId": "c751eed2-8085-48e8-947d-e6bb7aa88dec",
        "colab": {
          "base_uri": "https://localhost:8080/"
        }
      },
      "execution_count": 56,
      "outputs": [
        {
          "output_type": "stream",
          "name": "stdout",
          "text": [
            "請輸入您的身高:180\n",
            "請輸入您的體重:80\n",
            "身高: 180 公分 體重: 80 公斤 bmi: 0.0024691358024691358\n"
          ]
        }
      ]
    }
  ]
}