{
  "nbformat": 4,
  "nbformat_minor": 0,
  "metadata": {
    "colab": {
      "provenance": [],
      "authorship_tag": "ABX9TyMEg3y/sQumG4WzErz+nP62",
      "include_colab_link": true
    },
    "kernelspec": {
      "name": "python3",
      "display_name": "Python 3"
    },
    "language_info": {
      "name": "python"
    }
  },
  "cells": [
    {
      "cell_type": "markdown",
      "metadata": {
        "id": "view-in-github",
        "colab_type": "text"
      },
      "source": [
        "<a href=\"https://colab.research.google.com/github/Chloe930125/introduction-to-computer/blob/main/0515.ipynb\" target=\"_parent\"><img src=\"https://colab.research.google.com/assets/colab-badge.svg\" alt=\"Open In Colab\"/></a>"
      ]
    },
    {
      "cell_type": "code",
      "source": [
        "def determine_season(month):\n",
        "    if month in [3, 4, 5]:\n",
        "        print(f\"{month}月是春天！\")\n",
        "    elif month in [6, 7, 8]:\n",
        "        print(f\"{month}月是夏天！\")\n",
        "    elif month in [9, 10, 11]:\n",
        "        print(f\"{month}月是秋天！\")\n",
        "    elif month in [12, 1, 2]:\n",
        "        print(f\"{month}月是冬天！\")\n",
        "    else:\n",
        "        print(\"请输入有效的月份（1-12）！\")\n",
        "\n",
        "month = int(input(\"请输入月份（1-12）：\"))\n",
        "determine_season(month)"
      ],
      "metadata": {
        "colab": {
          "base_uri": "https://localhost:8080/"
        },
        "id": "p3m2Wo_lGBNv",
        "outputId": "9117cdfe-696b-49ce-c304-7a2c3d6bd4d9"
      },
      "execution_count": 2,
      "outputs": [
        {
          "output_type": "stream",
          "name": "stdout",
          "text": [
            "请输入月份（1-12）：3\n",
            "3月是春天！\n"
          ]
        }
      ]
    },
    {
      "cell_type": "code",
      "source": [
        "def calculate_tax(income):\n",
        "    if income >= 2000000:\n",
        "        tax_rate = 0.3\n",
        "    elif income >= 1000000:\n",
        "        tax_rate = 0.21\n",
        "    elif income >= 600000:\n",
        "        tax_rate = 0.13\n",
        "    elif income >= 300000:\n",
        "        tax_rate = 0.06\n",
        "    else:\n",
        "        tax_rate = 0.0\n",
        "\n",
        "    tax_amount = income * tax_rate\n",
        "    return tax_amount\n",
        "\n",
        "income = int(input(\"请输入您的收入：\"))\n",
        "tax = calculate_tax(income)\n",
        "print(f\"您的税金金额为：{tax}\")"
      ],
      "metadata": {
        "colab": {
          "base_uri": "https://localhost:8080/"
        },
        "id": "ZhnyE6HPGBac",
        "outputId": "e8eee11d-2e59-4c46-9785-db7bfb523a6a"
      },
      "execution_count": 4,
      "outputs": [
        {
          "output_type": "stream",
          "name": "stdout",
          "text": [
            "请输入您的收入：100000\n",
            "您的税金金额为：0.0\n"
          ]
        }
      ]
    },
    {
      "cell_type": "code",
      "source": [
        "def determine_body_temperature(temperature):\n",
        "    if temperature >= 37.5:\n",
        "        print(\"体温过高！\")\n",
        "    elif 37 <= temperature <= 37.4:\n",
        "        print(\"体温略高！\")\n",
        "    elif 34 <= temperature <= 36.9:\n",
        "        print(\"体温正常！\")\n",
        "    elif temperature < 34:\n",
        "        print(\"体温异常，请重新量测！\")\n",
        "    else:\n",
        "        print(\"请输入有效的体温值！\")\n",
        "\n",
        "temperature = float(input(\"请输入体温：\"))\n",
        "determine_body_temperature(temperature)"
      ],
      "metadata": {
        "colab": {
          "base_uri": "https://localhost:8080/"
        },
        "id": "BU9G8ZeOIKVT",
        "outputId": "9ac2c101-870a-46ba-9b97-69c5c594da76"
      },
      "execution_count": 5,
      "outputs": [
        {
          "output_type": "stream",
          "name": "stdout",
          "text": [
            "请输入体温：37.5\n",
            "体温过高！\n"
          ]
        }
      ]
    },
    {
      "cell_type": "code",
      "source": [
        "def determine_grade(score):\n",
        "    if score >= 90:\n",
        "        print(\"A\")\n",
        "    elif score >= 80:\n",
        "        print(\"B\")\n",
        "    elif score >= 70:\n",
        "        print(\"C\")\n",
        "    elif score >= 60:\n",
        "        print(\"D\")\n",
        "    else:\n",
        "        print(\"E\")\n",
        "\n",
        "score = float(input(\"请输入您的成绩：\"))\n",
        "determine_grade(score)"
      ],
      "metadata": {
        "colab": {
          "base_uri": "https://localhost:8080/"
        },
        "id": "ohCTsoMTIqAx",
        "outputId": "40baffee-3616-4a2b-e4cb-f6e3870b48b0"
      },
      "execution_count": 6,
      "outputs": [
        {
          "output_type": "stream",
          "name": "stdout",
          "text": [
            "请输入您的成绩：90\n",
            "A\n"
          ]
        }
      ]
    },
    {
      "cell_type": "code",
      "source": [
        "rain = input(\"今天會下雨嗎\")\n",
        "if(rain == \"Y\" or rain == \"y\"):\n",
        "  print(\"出門記得帶傘\")\n",
        "elif(rain == \"N\" or rain == \"n\"):\n",
        "  print(\"出門不用帶傘\")\n",
        "else:\n",
        "  print(\"請重新輸入\")"
      ],
      "metadata": {
        "colab": {
          "base_uri": "https://localhost:8080/"
        },
        "id": "CExYTuhzI_PL",
        "outputId": "2b79e3ea-0ac8-41fb-f8bb-83facfc1d220"
      },
      "execution_count": 7,
      "outputs": [
        {
          "output_type": "stream",
          "name": "stdout",
          "text": [
            "今天會下雨嗎N\n",
            "出門不用帶傘\n"
          ]
        }
      ]
    }
  ]
}